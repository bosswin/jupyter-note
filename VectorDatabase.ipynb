{
  "cells": [
    {
      "cell_type": "markdown",
      "metadata": {
        "id": "view-in-github",
        "colab_type": "text"
      },
      "source": [
        "<a href=\"https://colab.research.google.com/github/bosswin/jupyter-note/blob/master/VectorDatabase.ipynb\" target=\"_parent\"><img src=\"https://colab.research.google.com/assets/colab-badge.svg\" alt=\"Open In Colab\"/></a>"
      ]
    },
    {
      "cell_type": "code",
      "source": [
        "from funasr import AutoModel\n",
        "from funasr.utils.postprocess_utils import rich_transcription_postprocess\n",
        "import glob, os\n",
        "model_dir = \"iic/SenseVoiceSmall\"\n",
        "\n",
        "results =[]\n",
        "model = AutoModel(\n",
        "    model=model_dir,\n",
        "    vad_model=\"fsmn-vad\",\n",
        "    vad_kwargs={\"max_single_segment_time\": 30000,\"hotword\":\"法属圣马丁\"},\n",
        "    hotwords=\"法属圣马丁\"\n",
        "    )\n",
        "os.chdir(\"/content/team_wav\") # 切换到指定目录\n",
        "\n",
        "\n",
        "language_maps={\"p\":\"zh\",\"e\":\"en\",\"c\":\"yue\"}\n",
        "\n",
        "\n",
        "res = model.generate(\n",
        "    input=f\"/content/team_wav/pFSM.vox.wav\",\n",
        "    cache={},\n",
        "    language=\"zh\",  # \"zh\", \"en\", \"yue\", \"ja\", \"ko\", \"nospeech\"\n",
        "    use_itn=True,\n",
        "    batch_size_s=60,\n",
        "    merge_vad=True,  #\n",
        "    merge_length_s=15,\n",
        "    hotword=\"法属圣马丁\"\n",
        ")\n",
        "text = rich_transcription_postprocess(res[0][\"text\"])\n",
        "text"
      ],
      "metadata": {
        "collapsed": true,
        "id": "IPcCYKg8pDRg"
      },
      "execution_count": null,
      "outputs": []
    },
    {
      "cell_type": "code",
      "source": [
        "import IPython.display as dp\n",
        "import pandas as pd\n",
        "df = pd.DataFrame(results)\n",
        "dp.display(df)"
      ],
      "metadata": {
        "id": "xn9BlhxEplkm"
      },
      "execution_count": null,
      "outputs": []
    },
    {
      "cell_type": "code",
      "source": [
        "first = \"eNM2.vox.wav\"[0]\n",
        "\n",
        "language_map={\"p\":\"zh\",\"e\":\"en\",\"c\":\"yue\"}\n",
        "language_map[\"p\"]"
      ],
      "metadata": {
        "id": "1nEq1pOD1O_A"
      },
      "execution_count": null,
      "outputs": []
    },
    {
      "cell_type": "code",
      "source": [],
      "metadata": {
        "id": "qHGzi_t6g1xN"
      },
      "execution_count": null,
      "outputs": []
    },
    {
      "cell_type": "code",
      "source": [
        "!pip install zhconv"
      ],
      "metadata": {
        "id": "yxjTQtT3ILRg"
      },
      "execution_count": null,
      "outputs": []
    },
    {
      "cell_type": "code",
      "source": [
        "import zhconv\n",
        "import time\n",
        "time1 = time.time()\n",
        "s='''聖安東尼奧聯\n",
        "康塞普森體育\n",
        "利納雷斯體育\n",
        "列高列達\n",
        "利馬切\n",
        "特拉桑迪洛\n",
        "上普恩特\n",
        "彼達迪華馬卡比\n",
        "伊比利亞1999\n",
        "奧克蘭FC\n",
        "AC維圖斯\n",
        "克里維里赫\n",
        "帕福斯\n",
        "胡內多阿拉\n",
        "普萊西亞日托米爾\n",
        "薩姆加耶特\n",
        "FK特蘭斯\n",
        "NK巴禾\n",
        "馬利舒華\n",
        "FA希奧利艾\n",
        "FC諾亞\n",
        "FC伊斯洛\n",
        "施特拉森\n",
        "塔林卡列夫\n",
        "卡納芬\n",
        "迪華殊\n",
        "莫爾納\n",
        "丹達\n",
        "烏爾姆\n",
        "雷尼基1923\n",
        "皇家聖祖亞昆\n",
        "日本足球學院\n",
        "阿富汗U20\n",
        "土庫曼U20\n",
        "美國男奧足\n",
        "多明尼加共和國男奧足\n",
        "以色列男奧足\n",
        "烏克蘭男奧足\n",
        "馬里男奧足\n",
        "巴拉圭男奧足\n",
        "烏茲別克男奧足\n",
        "畿內亞男奧足\n",
        "牙買加U20\n",
        "海地U20\n",
        "捷克女足U23\n",
        "洛克達爾以利亞日\n",
        "摩頓城精英隊\n",
        "達爾文之心\n",
        "奧康納騎士\n",
        "珀斯紅星\n",
        "蘭布頓查法斯\n",
        "墨爾本塞爾維亞\n",
        "格林諾治騎士\n",
        "奧林匹克京士威\n",
        "奧地利女足U20\n",
        "拉巴斯體育會\n",
        "莫雷利亞體育會\n",
        "坎昆FC\n",
        "塔巴迪奧\n",
        "特帕蒂特蘭\n",
        "特拉斯卡拉\n",
        "卡拉雷斯\n",
        "曼托華\n",
        "卡塔爾SC\n",
        "艾沙瑪\n",
        "多哈艾阿里\n",
        "艾科爾\n",
        "艾沙哈尼亞\n",
        "艾侯賽因伊比\n",
        "拉夫尚庫洛布\n",
        "艾卡列迪亞\n",
        "東賓高\n",
        "艾阿里麥納麥\n",
        "阿恩艾沙\n",
        "宿霧FC\n",
        "南定\n",
        "清化\n",
        "雪蘭莪\n",
        "斐濟女足U20\n",
        "伊斯韋斯\n",
        "伊斯韋斯\n",
        "卡赫利\n",
        "艾科魯特\n",
        "艾科多\n",
        "艾奧魯巴\n",
        "艾卡迪沙\n",
        "艾拉德\n",
        "艾利雅德\n",
        "達馬克FC\n",
        "哈斯勒荷姆\n",
        "車里雅賓斯克\n",
        "莫斯科切達奴禾\n",
        "帝國聯\n",
        "特克斯和凱科斯群島\n",
        "史托辛特\n",
        "法屬聖馬丁\n",
        "科斯特羅馬斯巴達\n",
        "派迪高斯卡\n",
        "安哥拉U20\n",
        "博茲瓦納U20\n",
        "科摩羅U20\n",
        "伊斯瓦蒂尼U20\n",
        "萊索托U20\n",
        "馬拉維U20\n",
        "納米比亞U20\n",
        "津巴布韋U20\n",
        "馬達加斯加U20\n",
        "'''\n",
        "s2=zhconv.convert(s,'zh-cn')\n",
        "time2 = time.time()\n",
        "cost_time = (time2 - time1)\n",
        "print(s2)\n",
        "print(cost_time)"
      ],
      "metadata": {
        "id": "PEc_sfkHIRON"
      },
      "execution_count": null,
      "outputs": []
    },
    {
      "cell_type": "code",
      "source": [
        "!pip install -U funasr modelscope"
      ],
      "metadata": {
        "id": "mnsdLOKRg345"
      },
      "execution_count": null,
      "outputs": []
    },
    {
      "cell_type": "code",
      "source": [
        "from modelscope.hub.snapshot_download import snapshot_download\n",
        "model_dir = snapshot_download('damo/nlp_bart_text-error-correction_chinese')"
      ],
      "metadata": {
        "id": "zbsj36ju1KXJ"
      },
      "execution_count": null,
      "outputs": []
    },
    {
      "cell_type": "code",
      "source": [
        "from modelscope.pipelines import pipeline\n",
        "from modelscope.utils.constant import Tasks\n",
        "\n",
        "model_id = 'damo/nlp_bart_text-error-correction_chinese'\n",
        "input = '这洋的话，下一年的福气来到自己身上。'\n",
        "pipeline = pipeline(Tasks.text_error_correction, model=model_id)\n",
        "result = pipeline(input)\n",
        "print(result['output'])"
      ],
      "metadata": {
        "id": "Xufb4PNLg-Qg"
      },
      "execution_count": null,
      "outputs": []
    },
    {
      "cell_type": "code",
      "source": [
        "!pip install chromadb"
      ],
      "metadata": {
        "id": "7ltePVDtg-GU"
      },
      "execution_count": null,
      "outputs": []
    },
    {
      "cell_type": "code",
      "source": [
        "import chromadb\n",
        "chroma_client = chromadb.Client()\n",
        "collection = chroma_client.create_collection(name=\"my_collection\")\n"
      ],
      "metadata": {
        "id": "9DlMe6wrRe6x"
      },
      "execution_count": 4,
      "outputs": []
    },
    {
      "cell_type": "code",
      "source": [
        "collection.add(\n",
        "    documents=[\n",
        "        '''{\"code\":\"DLS\",\"e\":\"Deportes Linares\",\"p\":\"利納雷斯體育\",\"c\":\"利纳雷斯体育\"}''',\n",
        "        '''{\"code\":\"PZR\",\"e\":\"Polissya Zhytomyr\",\"c\":\"普萊西亞日托米爾\",\"p\":\"普莱西亚日托米尔\"}'''\n",
        "    ],\n",
        "    ids=[\"DLS\", \"PZR\"]\n",
        ")\n",
        "\n"
      ],
      "metadata": {
        "id": "JpRWKojzRoKt"
      },
      "execution_count": 7,
      "outputs": []
    },
    {
      "cell_type": "code",
      "source": [
        "results = collection.query(\n",
        "    query_texts=[\"aeportes \"], # Chroma will embed this for you\n",
        "    n_results=1 # how many results to return\n",
        ")\n",
        "print(results)"
      ],
      "metadata": {
        "id": "eyBvkaznVQt2",
        "outputId": "a5605b68-e2e6-43ee-fd9d-a71d2aa2c9d1",
        "colab": {
          "base_uri": "https://localhost:8080/"
        }
      },
      "execution_count": 12,
      "outputs": [
        {
          "output_type": "stream",
          "name": "stdout",
          "text": [
            "{'ids': [['DLS']], 'embeddings': None, 'documents': [['{\"code\":\"DLS\",\"e\":\"Deportes Linares\",\"p\":\"利納雷斯體育\",\"c\":\"利纳雷斯体育\"}']], 'uris': None, 'data': None, 'metadatas': [[None]], 'distances': [[1.606644868850708]], 'included': [<IncludeEnum.distances: 'distances'>, <IncludeEnum.documents: 'documents'>, <IncludeEnum.metadatas: 'metadatas'>]}\n"
          ]
        }
      ]
    },
    {
      "cell_type": "code",
      "source": [
        "!pip install -U pymilvus"
      ],
      "metadata": {
        "id": "p583dt0Cbpr3"
      },
      "execution_count": null,
      "outputs": []
    },
    {
      "cell_type": "code",
      "source": [
        "from pymilvus import MilvusClient, DataType\n",
        "\n",
        "# 实例化客户端，连接 Milvus 服务\n",
        "client = MilvusClient(\"milvus_demo1.db\")\n",
        "# 创建 schema\n",
        "schema = MilvusClient.create_schema(\n",
        "    auto_id=False,\n",
        "    enable_dynamic_field=True,\n",
        ")\n",
        "# schema 添加字段 id、vector\n",
        "schema.add_field(field_name=\"code\", datatype=DataType.VARCHAR,max_length=50, is_primary=True)\n",
        "schema.add_field(field_name=\"vector\", datatype=DataType.FLOAT_VECTOR, dim=768)\n",
        "schema.add_field(field_name=\"value\", datatype=DataType.VARCHAR,max_length=5000)\n",
        "# 创建集合\n",
        "client.create_collection(\n",
        "  collection_name=\"demo_v4\",\n",
        "  schema=schema,\n",
        ")\n"
      ],
      "metadata": {
        "id": "mfxKNYtAfOKg",
        "outputId": "659e9696-dcc5-49a7-e9f1-2d31b02e9f95",
        "colab": {
          "base_uri": "https://localhost:8080/"
        }
      },
      "execution_count": 85,
      "outputs": [
        {
          "output_type": "stream",
          "name": "stderr",
          "text": [
            "DEBUG:pymilvus.milvus_client.milvus_client:Created new connection using: 850773cf1d1d466d83560c264ef4107b\n",
            "DEBUG:pymilvus.milvus_client.milvus_client:Successfully created collection: demo_v4\n"
          ]
        }
      ]
    },
    {
      "cell_type": "code",
      "source": [
        "!pip install \"pymilvus[model]\""
      ],
      "metadata": {
        "id": "xjUv-qbMdFvC"
      },
      "execution_count": null,
      "outputs": []
    },
    {
      "cell_type": "code",
      "source": [
        "from pymilvus.model.hybrid import MGTEEmbeddingFunction\n",
        "\n",
        "ef = MGTEEmbeddingFunction(\n",
        "    model_name=\"Alibaba-NLP/gte-multilingual-base\", # Defaults to `Alibaba-NLP/gte-multilingual-base`\n",
        ")\n",
        "print(\"Dim:\", ef.dim )\n",
        "dense_dim = ef.dim[\"dense\"]"
      ],
      "metadata": {
        "id": "QYCeC91mdMCX",
        "outputId": "1f0bf593-c787-41e8-c798-fc82d61afbba",
        "colab": {
          "base_uri": "https://localhost:8080/"
        }
      },
      "execution_count": 112,
      "outputs": [
        {
          "output_type": "stream",
          "name": "stdout",
          "text": [
            "Dim: {'dense': 768, 'sparse': 250002}\n"
          ]
        }
      ]
    },
    {
      "cell_type": "code",
      "source": [
        "docs = [\n",
        "    '''{\"code\":\"DLS\",\"e\":\"Deportes Linares\",\"p\":\"利納雷斯體育\",\"c\":\"利纳雷斯体育\"}''',\n",
        "    '''{\"code\":\"PZR\",\"e\":\"Polissya Zhytomyr\",\"c\":\"普萊西亞日托米爾\",\"p\":\"普莱西亚日托米尔\"}'''\n",
        "]\n",
        "\n",
        "vectors = ef.encode_documents(docs)[\"dense\"]\n",
        "\n",
        "data = [\n",
        "    {\"code\": \"DLS\", \"vector\": vectors[0], \"value\": docs[0]},\n",
        "    {\"code\": \"PZR\", \"vector\": vectors[1], \"value\": docs[1]}\n",
        "]\n"
      ],
      "metadata": {
        "id": "0EhOsBXcdfSb"
      },
      "execution_count": 104,
      "outputs": []
    },
    {
      "cell_type": "code",
      "source": [
        "len(vectors[0])"
      ],
      "metadata": {
        "id": "1eRR7grzqjU4",
        "outputId": "8b439e0f-9c18-488f-f918-643dcca35627",
        "colab": {
          "base_uri": "https://localhost:8080/"
        }
      },
      "execution_count": 105,
      "outputs": [
        {
          "output_type": "execute_result",
          "data": {
            "text/plain": [
              "768"
            ]
          },
          "metadata": {},
          "execution_count": 105
        }
      ]
    },
    {
      "cell_type": "code",
      "source": [
        "client.insert(collection_name=\"demo_v4\", data=data)"
      ],
      "metadata": {
        "id": "ASrKT1ZTfvYv",
        "outputId": "7885e311-8ce7-4399-e616-38c096fccc71",
        "colab": {
          "base_uri": "https://localhost:8080/"
        }
      },
      "execution_count": 106,
      "outputs": [
        {
          "output_type": "execute_result",
          "data": {
            "text/plain": [
              "{'insert_count': 2, 'ids': ['DLS', 'PZR'], 'cost': 0}"
            ]
          },
          "metadata": {},
          "execution_count": 106
        }
      ]
    },
    {
      "cell_type": "code",
      "source": [
        "query_vectors = ef.encode_queries([\"体育\"])\n",
        "\n",
        "res = client.search(\n",
        "    collection_name=\"demo_v4\",  # target collection\n",
        "    data=query_vectors,  # query vectors\n",
        "    limit=5,  # number of returned entities\n",
        "    output_fields=[\"code\"],  # specifies fields to be returned\n",
        ")"
      ],
      "metadata": {
        "id": "lAQUsyvsuXfR"
      },
      "execution_count": null,
      "outputs": []
    },
    {
      "cell_type": "code",
      "source": [
        "res = client.list_indexes(collection_name=\"demo_v4\")\n",
        "\n",
        "print(res)"
      ],
      "metadata": {
        "id": "hhTsgidEIhvd",
        "outputId": "ec59eabb-89b4-4069-dc69-9b6bac58e415",
        "colab": {
          "base_uri": "https://localhost:8080/"
        }
      },
      "execution_count": 109,
      "outputs": [
        {
          "output_type": "stream",
          "name": "stdout",
          "text": [
            "[]\n"
          ]
        }
      ]
    },
    {
      "cell_type": "code",
      "source": [
        "result = search(query=\"体育\")"
      ],
      "metadata": {
        "id": "fhf-ze_HdpE4"
      },
      "execution_count": null,
      "outputs": []
    },
    {
      "cell_type": "code",
      "source": [
        "import pandas as pd"
      ],
      "metadata": {
        "id": "nM8MSlJJfLxi"
      },
      "execution_count": 60,
      "outputs": []
    },
    {
      "cell_type": "code",
      "source": [
        "df = pd.read_csv('team.csv')\n",
        "df.head()"
      ],
      "metadata": {
        "id": "w8STXvbv4_TJ",
        "outputId": "557dc448-d42a-4f31-d37a-86a6a754a8f7",
        "colab": {
          "base_uri": "https://localhost:8080/",
          "height": 206
        }
      },
      "execution_count": 61,
      "outputs": [
        {
          "output_type": "execute_result",
          "data": {
            "text/plain": [
              "  Code                    E       C       P\n",
              "0  SAU    San Antonio Unido  聖安東尼奧聯  圣安东尼奥联\n",
              "1  DCC  Deportes Concepcion  康塞普森體育  康塞普森体育\n",
              "2  DLS     Deportes Linares  利納雷斯體育  利纳雷斯体育\n",
              "3  DRL    Deportes Recoleta    列高列達    列高列达\n",
              "4  DLE     Deportes Limache     利馬切     利马切"
            ],
            "text/html": [
              "\n",
              "  <div id=\"df-45442a0c-7176-4012-b15c-8c33b4370a7e\" class=\"colab-df-container\">\n",
              "    <div>\n",
              "<style scoped>\n",
              "    .dataframe tbody tr th:only-of-type {\n",
              "        vertical-align: middle;\n",
              "    }\n",
              "\n",
              "    .dataframe tbody tr th {\n",
              "        vertical-align: top;\n",
              "    }\n",
              "\n",
              "    .dataframe thead th {\n",
              "        text-align: right;\n",
              "    }\n",
              "</style>\n",
              "<table border=\"1\" class=\"dataframe\">\n",
              "  <thead>\n",
              "    <tr style=\"text-align: right;\">\n",
              "      <th></th>\n",
              "      <th>Code</th>\n",
              "      <th>E</th>\n",
              "      <th>C</th>\n",
              "      <th>P</th>\n",
              "    </tr>\n",
              "  </thead>\n",
              "  <tbody>\n",
              "    <tr>\n",
              "      <th>0</th>\n",
              "      <td>SAU</td>\n",
              "      <td>San Antonio Unido</td>\n",
              "      <td>聖安東尼奧聯</td>\n",
              "      <td>圣安东尼奥联</td>\n",
              "    </tr>\n",
              "    <tr>\n",
              "      <th>1</th>\n",
              "      <td>DCC</td>\n",
              "      <td>Deportes Concepcion</td>\n",
              "      <td>康塞普森體育</td>\n",
              "      <td>康塞普森体育</td>\n",
              "    </tr>\n",
              "    <tr>\n",
              "      <th>2</th>\n",
              "      <td>DLS</td>\n",
              "      <td>Deportes Linares</td>\n",
              "      <td>利納雷斯體育</td>\n",
              "      <td>利纳雷斯体育</td>\n",
              "    </tr>\n",
              "    <tr>\n",
              "      <th>3</th>\n",
              "      <td>DRL</td>\n",
              "      <td>Deportes Recoleta</td>\n",
              "      <td>列高列達</td>\n",
              "      <td>列高列达</td>\n",
              "    </tr>\n",
              "    <tr>\n",
              "      <th>4</th>\n",
              "      <td>DLE</td>\n",
              "      <td>Deportes Limache</td>\n",
              "      <td>利馬切</td>\n",
              "      <td>利马切</td>\n",
              "    </tr>\n",
              "  </tbody>\n",
              "</table>\n",
              "</div>\n",
              "    <div class=\"colab-df-buttons\">\n",
              "\n",
              "  <div class=\"colab-df-container\">\n",
              "    <button class=\"colab-df-convert\" onclick=\"convertToInteractive('df-45442a0c-7176-4012-b15c-8c33b4370a7e')\"\n",
              "            title=\"Convert this dataframe to an interactive table.\"\n",
              "            style=\"display:none;\">\n",
              "\n",
              "  <svg xmlns=\"http://www.w3.org/2000/svg\" height=\"24px\" viewBox=\"0 -960 960 960\">\n",
              "    <path d=\"M120-120v-720h720v720H120Zm60-500h600v-160H180v160Zm220 220h160v-160H400v160Zm0 220h160v-160H400v160ZM180-400h160v-160H180v160Zm440 0h160v-160H620v160ZM180-180h160v-160H180v160Zm440 0h160v-160H620v160Z\"/>\n",
              "  </svg>\n",
              "    </button>\n",
              "\n",
              "  <style>\n",
              "    .colab-df-container {\n",
              "      display:flex;\n",
              "      gap: 12px;\n",
              "    }\n",
              "\n",
              "    .colab-df-convert {\n",
              "      background-color: #E8F0FE;\n",
              "      border: none;\n",
              "      border-radius: 50%;\n",
              "      cursor: pointer;\n",
              "      display: none;\n",
              "      fill: #1967D2;\n",
              "      height: 32px;\n",
              "      padding: 0 0 0 0;\n",
              "      width: 32px;\n",
              "    }\n",
              "\n",
              "    .colab-df-convert:hover {\n",
              "      background-color: #E2EBFA;\n",
              "      box-shadow: 0px 1px 2px rgba(60, 64, 67, 0.3), 0px 1px 3px 1px rgba(60, 64, 67, 0.15);\n",
              "      fill: #174EA6;\n",
              "    }\n",
              "\n",
              "    .colab-df-buttons div {\n",
              "      margin-bottom: 4px;\n",
              "    }\n",
              "\n",
              "    [theme=dark] .colab-df-convert {\n",
              "      background-color: #3B4455;\n",
              "      fill: #D2E3FC;\n",
              "    }\n",
              "\n",
              "    [theme=dark] .colab-df-convert:hover {\n",
              "      background-color: #434B5C;\n",
              "      box-shadow: 0px 1px 3px 1px rgba(0, 0, 0, 0.15);\n",
              "      filter: drop-shadow(0px 1px 2px rgba(0, 0, 0, 0.3));\n",
              "      fill: #FFFFFF;\n",
              "    }\n",
              "  </style>\n",
              "\n",
              "    <script>\n",
              "      const buttonEl =\n",
              "        document.querySelector('#df-45442a0c-7176-4012-b15c-8c33b4370a7e button.colab-df-convert');\n",
              "      buttonEl.style.display =\n",
              "        google.colab.kernel.accessAllowed ? 'block' : 'none';\n",
              "\n",
              "      async function convertToInteractive(key) {\n",
              "        const element = document.querySelector('#df-45442a0c-7176-4012-b15c-8c33b4370a7e');\n",
              "        const dataTable =\n",
              "          await google.colab.kernel.invokeFunction('convertToInteractive',\n",
              "                                                    [key], {});\n",
              "        if (!dataTable) return;\n",
              "\n",
              "        const docLinkHtml = 'Like what you see? Visit the ' +\n",
              "          '<a target=\"_blank\" href=https://colab.research.google.com/notebooks/data_table.ipynb>data table notebook</a>'\n",
              "          + ' to learn more about interactive tables.';\n",
              "        element.innerHTML = '';\n",
              "        dataTable['output_type'] = 'display_data';\n",
              "        await google.colab.output.renderOutput(dataTable, element);\n",
              "        const docLink = document.createElement('div');\n",
              "        docLink.innerHTML = docLinkHtml;\n",
              "        element.appendChild(docLink);\n",
              "      }\n",
              "    </script>\n",
              "  </div>\n",
              "\n",
              "\n",
              "<div id=\"df-e96daf85-7207-4cae-9ec7-6b9f3c71b715\">\n",
              "  <button class=\"colab-df-quickchart\" onclick=\"quickchart('df-e96daf85-7207-4cae-9ec7-6b9f3c71b715')\"\n",
              "            title=\"Suggest charts\"\n",
              "            style=\"display:none;\">\n",
              "\n",
              "<svg xmlns=\"http://www.w3.org/2000/svg\" height=\"24px\"viewBox=\"0 0 24 24\"\n",
              "     width=\"24px\">\n",
              "    <g>\n",
              "        <path d=\"M19 3H5c-1.1 0-2 .9-2 2v14c0 1.1.9 2 2 2h14c1.1 0 2-.9 2-2V5c0-1.1-.9-2-2-2zM9 17H7v-7h2v7zm4 0h-2V7h2v10zm4 0h-2v-4h2v4z\"/>\n",
              "    </g>\n",
              "</svg>\n",
              "  </button>\n",
              "\n",
              "<style>\n",
              "  .colab-df-quickchart {\n",
              "      --bg-color: #E8F0FE;\n",
              "      --fill-color: #1967D2;\n",
              "      --hover-bg-color: #E2EBFA;\n",
              "      --hover-fill-color: #174EA6;\n",
              "      --disabled-fill-color: #AAA;\n",
              "      --disabled-bg-color: #DDD;\n",
              "  }\n",
              "\n",
              "  [theme=dark] .colab-df-quickchart {\n",
              "      --bg-color: #3B4455;\n",
              "      --fill-color: #D2E3FC;\n",
              "      --hover-bg-color: #434B5C;\n",
              "      --hover-fill-color: #FFFFFF;\n",
              "      --disabled-bg-color: #3B4455;\n",
              "      --disabled-fill-color: #666;\n",
              "  }\n",
              "\n",
              "  .colab-df-quickchart {\n",
              "    background-color: var(--bg-color);\n",
              "    border: none;\n",
              "    border-radius: 50%;\n",
              "    cursor: pointer;\n",
              "    display: none;\n",
              "    fill: var(--fill-color);\n",
              "    height: 32px;\n",
              "    padding: 0;\n",
              "    width: 32px;\n",
              "  }\n",
              "\n",
              "  .colab-df-quickchart:hover {\n",
              "    background-color: var(--hover-bg-color);\n",
              "    box-shadow: 0 1px 2px rgba(60, 64, 67, 0.3), 0 1px 3px 1px rgba(60, 64, 67, 0.15);\n",
              "    fill: var(--button-hover-fill-color);\n",
              "  }\n",
              "\n",
              "  .colab-df-quickchart-complete:disabled,\n",
              "  .colab-df-quickchart-complete:disabled:hover {\n",
              "    background-color: var(--disabled-bg-color);\n",
              "    fill: var(--disabled-fill-color);\n",
              "    box-shadow: none;\n",
              "  }\n",
              "\n",
              "  .colab-df-spinner {\n",
              "    border: 2px solid var(--fill-color);\n",
              "    border-color: transparent;\n",
              "    border-bottom-color: var(--fill-color);\n",
              "    animation:\n",
              "      spin 1s steps(1) infinite;\n",
              "  }\n",
              "\n",
              "  @keyframes spin {\n",
              "    0% {\n",
              "      border-color: transparent;\n",
              "      border-bottom-color: var(--fill-color);\n",
              "      border-left-color: var(--fill-color);\n",
              "    }\n",
              "    20% {\n",
              "      border-color: transparent;\n",
              "      border-left-color: var(--fill-color);\n",
              "      border-top-color: var(--fill-color);\n",
              "    }\n",
              "    30% {\n",
              "      border-color: transparent;\n",
              "      border-left-color: var(--fill-color);\n",
              "      border-top-color: var(--fill-color);\n",
              "      border-right-color: var(--fill-color);\n",
              "    }\n",
              "    40% {\n",
              "      border-color: transparent;\n",
              "      border-right-color: var(--fill-color);\n",
              "      border-top-color: var(--fill-color);\n",
              "    }\n",
              "    60% {\n",
              "      border-color: transparent;\n",
              "      border-right-color: var(--fill-color);\n",
              "    }\n",
              "    80% {\n",
              "      border-color: transparent;\n",
              "      border-right-color: var(--fill-color);\n",
              "      border-bottom-color: var(--fill-color);\n",
              "    }\n",
              "    90% {\n",
              "      border-color: transparent;\n",
              "      border-bottom-color: var(--fill-color);\n",
              "    }\n",
              "  }\n",
              "</style>\n",
              "\n",
              "  <script>\n",
              "    async function quickchart(key) {\n",
              "      const quickchartButtonEl =\n",
              "        document.querySelector('#' + key + ' button');\n",
              "      quickchartButtonEl.disabled = true;  // To prevent multiple clicks.\n",
              "      quickchartButtonEl.classList.add('colab-df-spinner');\n",
              "      try {\n",
              "        const charts = await google.colab.kernel.invokeFunction(\n",
              "            'suggestCharts', [key], {});\n",
              "      } catch (error) {\n",
              "        console.error('Error during call to suggestCharts:', error);\n",
              "      }\n",
              "      quickchartButtonEl.classList.remove('colab-df-spinner');\n",
              "      quickchartButtonEl.classList.add('colab-df-quickchart-complete');\n",
              "    }\n",
              "    (() => {\n",
              "      let quickchartButtonEl =\n",
              "        document.querySelector('#df-e96daf85-7207-4cae-9ec7-6b9f3c71b715 button');\n",
              "      quickchartButtonEl.style.display =\n",
              "        google.colab.kernel.accessAllowed ? 'block' : 'none';\n",
              "    })();\n",
              "  </script>\n",
              "</div>\n",
              "    </div>\n",
              "  </div>\n"
            ],
            "application/vnd.google.colaboratory.intrinsic+json": {
              "type": "dataframe",
              "variable_name": "df",
              "summary": "{\n  \"name\": \"df\",\n  \"rows\": 107,\n  \"fields\": [\n    {\n      \"column\": \"Code\",\n      \"properties\": {\n        \"dtype\": \"string\",\n        \"num_unique_values\": 107,\n        \"samples\": [\n          \"THO\",\n          \"VIA\",\n          \"DLE\"\n        ],\n        \"semantic_type\": \"\",\n        \"description\": \"\"\n      }\n    },\n    {\n      \"column\": \"E\",\n      \"properties\": {\n        \"dtype\": \"string\",\n        \"num_unique_values\": 106,\n        \"samples\": [\n          \"Eswatini U20\",\n          \"AC Virtus\",\n          \"Deportes Limache\"\n        ],\n        \"semantic_type\": \"\",\n        \"description\": \"\"\n      }\n    },\n    {\n      \"column\": \"C\",\n      \"properties\": {\n        \"dtype\": \"string\",\n        \"num_unique_values\": 106,\n        \"samples\": [\n          \"\\u4f0a\\u65af\\u74e6\\u8482\\u5c3cU20\",\n          \"AC\\u7dad\\u5716\\u65af\",\n          \"\\u5229\\u99ac\\u5207\"\n        ],\n        \"semantic_type\": \"\",\n        \"description\": \"\"\n      }\n    },\n    {\n      \"column\": \"P\",\n      \"properties\": {\n        \"dtype\": \"string\",\n        \"num_unique_values\": 106,\n        \"samples\": [\n          \"\\u4f0a\\u65af\\u74e6\\u8482\\u5c3cU20\",\n          \"AC\\u7ef4\\u56fe\\u65af\",\n          \"\\u5229\\u9a6c\\u5207\"\n        ],\n        \"semantic_type\": \"\",\n        \"description\": \"\"\n      }\n    }\n  ]\n}"
            }
          },
          "metadata": {},
          "execution_count": 61
        }
      ]
    },
    {
      "cell_type": "code",
      "source": [
        "from pymilvus import (\n",
        "    connections,\n",
        "    utility,\n",
        "    FieldSchema,\n",
        "    CollectionSchema,\n",
        "    DataType,\n",
        "    Collection,\n",
        ")\n",
        "\n",
        "# Connect to Milvus given URI\n",
        "connections.connect(uri=\"./milvus.db\")\n",
        "\n",
        "# Specify the data schema for the new Collection\n",
        "fields = [\n",
        "    # Use auto generated id as primary key\n",
        "    FieldSchema(\n",
        "        name=\"code\", dtype=DataType.VARCHAR, is_primary=True, auto_id=True, max_length=100\n",
        "    ),\n",
        "    # Store the original text to retrieve based on semantically distance\n",
        "    FieldSchema(name=\"text\", dtype=DataType.VARCHAR, max_length=512),\n",
        "    # Milvus now supports both sparse and dense vectors,\n",
        "    # we can store each in a separate field to conduct hybrid search on both vectors\n",
        "    FieldSchema(name=\"sparse_vector\", dtype=DataType.SPARSE_FLOAT_VECTOR),\n",
        "    FieldSchema(name=\"dense_vector\", dtype=DataType.FLOAT_VECTOR, dim=dense_dim)\n",
        "]\n",
        "schema = CollectionSchema(fields)\n",
        "\n",
        "# Create collection (drop the old one if exists)\n",
        "col_name = \"hybrid_demo\"\n",
        "if utility.has_collection(col_name):\n",
        "    Collection(col_name).drop()\n",
        "col = Collection(col_name, schema, consistency_level=\"Strong\")\n",
        "\n",
        "# To make vector search efficient, we need to create indices for the vector fields\n",
        "sparse_index = {\"index_type\": \"SPARSE_INVERTED_INDEX\", \"metric_type\": \"IP\"}\n",
        "col.create_index(\"sparse_vector\", sparse_index)\n",
        "dense_index = {\"index_type\": \"AUTOINDEX\", \"metric_type\": \"IP\"}\n",
        "col.create_index(\"dense_vector\", dense_index)\n",
        "col.load()"
      ],
      "metadata": {
        "id": "U1MkAi7P5E-x"
      },
      "execution_count": 122,
      "outputs": []
    },
    {
      "cell_type": "code",
      "source": [
        "import pandas as pd\n",
        "\n",
        "file_path = \"/content/team.csv\"\n",
        "df = pd.read_csv(file_path, sep=\",\")\n",
        "data = [\n",
        "     {\n",
        "          \"code\": df[\"Code\"][i],\n",
        "          \"e\": df[\"E\"][i],\n",
        "          \"sparse_vector\": df[\"title\"][i],\n",
        "          \"dense_vector\": df[\"artist\"][i],\n",
        "     }\n",
        "     for i in range(len(df))\n",
        "]"
      ],
      "metadata": {
        "id": "eCLlOj0xLfjx"
      },
      "execution_count": 119,
      "outputs": []
    },
    {
      "cell_type": "code",
      "source": [
        "docs"
      ],
      "metadata": {
        "id": "sv-mBfabMNKW",
        "outputId": "f9f3fe92-0e36-41d6-8985-eb6612530407",
        "colab": {
          "base_uri": "https://localhost:8080/"
        }
      },
      "execution_count": 120,
      "outputs": [
        {
          "output_type": "execute_result",
          "data": {
            "text/plain": [
              "['特克斯和凯科斯群岛',\n",
              " '马利舒华',\n",
              " '莱索托U20',\n",
              " '曼托华',\n",
              " '上普恩特',\n",
              " '安哥拉U20',\n",
              " '艾拉德',\n",
              " '达马克FC',\n",
              " '艾沙玛',\n",
              " '土库曼U20',\n",
              " '格林诺治骑士',\n",
              " '南定',\n",
              " 'FA希奥利艾',\n",
              " '迪华殊',\n",
              " '日本足球学院',\n",
              " '胡内多阿拉',\n",
              " '清化',\n",
              " '雪兰莪',\n",
              " '科斯特罗马斯巴达',\n",
              " '艾卡迪沙',\n",
              " '珀斯红星',\n",
              " '奥地利女足U20',\n",
              " '奥康纳骑士',\n",
              " '艾沙哈尼亚',\n",
              " '捷克女足U23',\n",
              " '克里维里赫',\n",
              " '萨姆加耶特',\n",
              " '拉巴斯体育会',\n",
              " '摩顿城精英队',\n",
              " '伊比利亚1999',\n",
              " '莫尔纳',\n",
              " '美国男奥足',\n",
              " 'FC诺亚',\n",
              " '牙买加U20',\n",
              " '艾利雅德',\n",
              " '艾阿里麦纳麦',\n",
              " '洛克达尔以利亚日',\n",
              " '利马切',\n",
              " '津巴布韦U20',\n",
              " '阿恩艾沙',\n",
              " '丹达',\n",
              " '多米尼加共和国男奥足',\n",
              " '阿富汗U20',\n",
              " '艾科多',\n",
              " '兰布顿查法斯',\n",
              " '特拉斯卡拉',\n",
              " '雷尼基1923',\n",
              " '莫雷利亚体育会',\n",
              " '皇家圣祖亚昆',\n",
              " '塔巴迪奥',\n",
              " '卡纳芬',\n",
              " '艾卡列迪亚',\n",
              " '乌尔姆',\n",
              " '艾科尔',\n",
              " '哈斯勒荷姆',\n",
              " '列高列达',\n",
              " '坎昆FC',\n",
              " '施特拉森',\n",
              " '以色列男奥足',\n",
              " '特帕蒂特兰',\n",
              " '宿务FC',\n",
              " '乌克兰男奥足',\n",
              " '奥林匹克京士威',\n",
              " '伊斯瓦蒂尼U20',\n",
              " '康塞普森体育',\n",
              " '帕福斯',\n",
              " '帝国联',\n",
              " '伊斯韦斯',\n",
              " '马里男奥足',\n",
              " '乌兹别克男奥足',\n",
              " '几内亚男奥足',\n",
              " '达尔文之心',\n",
              " '车里雅宾斯克',\n",
              " 'NK巴禾',\n",
              " '马达加斯加U20',\n",
              " '巴拉圭男奥足',\n",
              " '圣安东尼奥联',\n",
              " '利纳雷斯体育',\n",
              " '马拉维U20',\n",
              " '艾侯赛因伊比',\n",
              " '史托辛特',\n",
              " '卡拉雷斯',\n",
              " '艾科鲁特',\n",
              " '博兹瓦纳U20',\n",
              " 'AC维图斯',\n",
              " '塔林卡列夫',\n",
              " '东宾高',\n",
              " '科摩罗U20',\n",
              " '卡赫利',\n",
              " '派迪高斯卡',\n",
              " '纳米比亚U20',\n",
              " 'FK特兰斯',\n",
              " '莫斯科切达奴禾',\n",
              " '普莱西亚日托米尔',\n",
              " '斐济女足U20',\n",
              " '多哈艾阿里',\n",
              " '法属圣马丁',\n",
              " '特拉桑迪洛',\n",
              " '彼达迪华马卡比',\n",
              " '艾奥鲁巴',\n",
              " '拉夫尚库洛布',\n",
              " 'FC伊斯洛',\n",
              " '奥克兰FC',\n",
              " '海地U20',\n",
              " '卡塔尔SC',\n",
              " '墨尔本塞尔维亚']"
            ]
          },
          "metadata": {},
          "execution_count": 120
        }
      ]
    }
  ],
  "metadata": {
    "colab": {
      "name": "Welcome To Colab",
      "provenance": [],
      "include_colab_link": true
    },
    "kernelspec": {
      "display_name": "Python 3",
      "name": "python3"
    }
  },
  "nbformat": 4,
  "nbformat_minor": 0
}